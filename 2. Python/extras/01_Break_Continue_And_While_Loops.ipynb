{
 "cells": [
  {
   "cell_type": "markdown",
   "metadata": {},
   "source": [
    "<img src=../images/gdd-logo.png align=right width=300px>\n",
    "\n",
    "\n",
    "# Range, Break, Continue and While Loops\n",
    "\n",
    "In this notebook, we will cover some more advanced techniques when working with loops:\n",
    "\n",
    "- [For loops with a range](#range)\n",
    "- [Using `break` and `continue` within a loop](#break-continue)\n",
    "- [While loops](#while)\n",
    "- [<mark>Exercise: Square numbers using a while</mark>](#ex-while)"
   ]
  },
  {
   "cell_type": "markdown",
   "metadata": {},
   "source": [
    "# For loops with a range\n",
    "\n",
    "The `range()` function is used to generate a sequence of numbers.\n",
    "\n",
    "Here a range is created, but the output doesn't show us the sequence."
   ]
  },
  {
   "cell_type": "code",
   "execution_count": 3,
   "metadata": {},
   "outputs": [
    {
     "data": {
      "text/plain": [
       "range(0, 5)"
      ]
     },
     "execution_count": 3,
     "metadata": {},
     "output_type": "execute_result"
    }
   ],
   "source": [
    "numbers = range(5)\n",
    "numbers"
   ]
  },
  {
   "cell_type": "markdown",
   "metadata": {},
   "source": [
    "However, You can use it to loop through integers in a for loop."
   ]
  },
  {
   "cell_type": "code",
   "execution_count": 4,
   "metadata": {},
   "outputs": [
    {
     "name": "stdout",
     "output_type": "stream",
     "text": [
      "Loop number: 0\n",
      "Loop number: 1\n",
      "Loop number: 2\n",
      "Loop number: 3\n",
      "Loop number: 4\n"
     ]
    }
   ],
   "source": [
    "for i in range(5):\n",
    "    print(\"Loop number:\", i)"
   ]
  },
  {
   "cell_type": "markdown",
   "metadata": {},
   "source": [
    "Notice that the range starts at zero and goes up to, but not including, the given number. "
   ]
  },
  {
   "cell_type": "markdown",
   "metadata": {},
   "source": [
    "<a id='break-continue'></a>\n",
    "## Using break and continue within a loop\n",
    "\n",
    "`Break` - Cancels the loop (cancels remaining iterations)\n",
    "\n",
    "`Continue` - Cancels this iteration of the loop and continues from the next iteration\n",
    "\n",
    "The following prints the numbers 0 - 9:\n",
    "\n",
    "```python\n",
    "for i in range(10):\n",
    "    \n",
    "    print(i)\n",
    "```\n",
    "\n",
    "What happens if we add the following code in the **middle** of this code block?\n",
    "\n",
    "```python\n",
    "if i == 5:\n",
    "    break\n",
    "```"
   ]
  },
  {
   "cell_type": "code",
   "execution_count": 5,
   "metadata": {},
   "outputs": [
    {
     "name": "stdout",
     "output_type": "stream",
     "text": [
      "0\n",
      "1\n",
      "2\n",
      "3\n",
      "4\n"
     ]
    }
   ],
   "source": [
    "for i in range(10):\n",
    "    if i == 5:\n",
    "        break\n",
    "\n",
    "    print(i)"
   ]
  },
  {
   "cell_type": "markdown",
   "metadata": {},
   "source": [
    "What about if we put it at the end?"
   ]
  },
  {
   "cell_type": "code",
   "execution_count": 6,
   "metadata": {},
   "outputs": [
    {
     "name": "stdout",
     "output_type": "stream",
     "text": [
      "0\n",
      "1\n",
      "2\n",
      "3\n",
      "4\n",
      "5\n"
     ]
    }
   ],
   "source": [
    "for i in range(10):\n",
    "    print(i)\n",
    "\n",
    "    if i == 5:\n",
    "        break"
   ]
  },
  {
   "cell_type": "markdown",
   "metadata": {},
   "source": [
    "What happens if we add the following code in the **middle** of this code block?\n",
    "\n",
    "```python\n",
    "if i == 5:\n",
    "    continue\n",
    "```"
   ]
  },
  {
   "cell_type": "code",
   "execution_count": 7,
   "metadata": {},
   "outputs": [
    {
     "name": "stdout",
     "output_type": "stream",
     "text": [
      "0\n",
      "1\n",
      "2\n",
      "3\n",
      "4\n",
      "6\n",
      "7\n",
      "8\n",
      "9\n"
     ]
    }
   ],
   "source": [
    "for i in range(10):\n",
    "    if i == 5:\n",
    "        continue\n",
    "\n",
    "    print(i)"
   ]
  },
  {
   "cell_type": "markdown",
   "metadata": {},
   "source": [
    "<a id='while'></a>\n",
    "## While loop\n",
    "\n",
    "The while loop is somewhat similar to an if statement, it executes the code inside, if the condition is True. However, as opposed to the if statement, the while loop continues to execute the code repeatedly as long as the condition is True.\n",
    "\n",
    "\n",
    "![](../images/while.png)\n",
    "<!-- <sub>Source: ?</sub> -->\n",
    "\n",
    "**Example**: Using a while loop to print all the numbers from 0 to 10\n"
   ]
  },
  {
   "cell_type": "code",
   "execution_count": 8,
   "metadata": {},
   "outputs": [
    {
     "name": "stdout",
     "output_type": "stream",
     "text": [
      "0\n",
      "1\n",
      "2\n",
      "3\n",
      "4\n",
      "5\n",
      "6\n",
      "7\n",
      "8\n",
      "9\n",
      "10\n"
     ]
    }
   ],
   "source": [
    "n = 0\n",
    "while n <= 10:\n",
    "    print(n)\n",
    "    n += 1"
   ]
  },
  {
   "cell_type": "markdown",
   "metadata": {},
   "source": [
    "A while-loop executes code repeatedly as long as a given boolean condition evaluates to True. Using `while True` results in an infinite loop.\n",
    "\n",
    "**Example**: USE `while True` to create an infinite loop printing even numbers forever:"
   ]
  },
  {
   "cell_type": "code",
   "execution_count": 9,
   "metadata": {},
   "outputs": [],
   "source": [
    "# n = 1\n",
    "# while True:\n",
    "#     print(n)\n",
    "#     n += 1"
   ]
  },
  {
   "cell_type": "markdown",
   "metadata": {},
   "source": [
    "**Example**: Add a `break` in an `if` statement to escape the loop so that the last number printed is 12."
   ]
  },
  {
   "cell_type": "code",
   "execution_count": 10,
   "metadata": {
    "lines_to_next_cell": 2
   },
   "outputs": [
    {
     "name": "stdout",
     "output_type": "stream",
     "text": [
      "1\n",
      "2\n",
      "3\n",
      "4\n",
      "5\n",
      "6\n",
      "7\n",
      "8\n",
      "9\n",
      "10\n",
      "11\n",
      "12\n"
     ]
    }
   ],
   "source": [
    "n = 1\n",
    "while True:\n",
    "    print(n)\n",
    "    if n == 12:\n",
    "        break\n",
    "    n += 1"
   ]
  },
  {
   "cell_type": "markdown",
   "metadata": {},
   "source": [
    "<a id='ex-while'></a>\n",
    "## <mark>Exercise: Square numbers using a while</mark>\n",
    "\n",
    "Similar to the previous exercise, print all the square numbers from 1 to 100 BUT this time, use:\n",
    "```python\n",
    "while True\n",
    "```\n",
    "*Extra: skip the square number 64.*"
   ]
  },
  {
   "cell_type": "code",
   "execution_count": 12,
   "metadata": {
    "lines_to_next_cell": 2
   },
   "outputs": [],
   "source": [
    "n = 1\n",
    "\n",
    "while True:\n",
    "    break"
   ]
  },
  {
   "cell_type": "code",
   "execution_count": 15,
   "metadata": {},
   "outputs": [
    {
     "name": "stdout",
     "output_type": "stream",
     "text": [
      "1\n",
      "4\n",
      "9\n",
      "16\n",
      "25\n",
      "36\n",
      "49\n",
      "81\n",
      "100\n"
     ]
    }
   ],
   "source": [
    "# %load ../answers/ex-while.py\n",
    "n = 1\n",
    "while True:\n",
    "    \n",
    "    if n == 8:\n",
    "        n += 1\n",
    "        continue\n",
    "        \n",
    "    print(n**2)\n",
    "    \n",
    "    if n == 10:\n",
    "        break\n",
    "        \n",
    "    n += 1"
   ]
  }
 ],
 "metadata": {
  "kernelspec": {
   "display_name": "Python 3",
   "language": "python",
   "name": "python3"
  },
  "language_info": {
   "codemirror_mode": {
    "name": "ipython",
    "version": 3
   },
   "file_extension": ".py",
   "mimetype": "text/x-python",
   "name": "python",
   "nbconvert_exporter": "python",
   "pygments_lexer": "ipython3",
   "version": "3.12.1"
  }
 },
 "nbformat": 4,
 "nbformat_minor": 4
}
