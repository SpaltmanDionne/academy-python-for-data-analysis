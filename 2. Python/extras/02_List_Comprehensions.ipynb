{
 "cells": [
  {
   "cell_type": "markdown",
   "id": "65bf5287",
   "metadata": {},
   "source": [
    "<a id='list-comp'></a> \n",
    "# List comprehensions\n",
    "\n",
    "- [List comprehensions](#list-comp)\n",
    "- [<mark>Exercise: Comprehend the comprehension</mark>](#ex-list-comp)\n",
    "\n",
    "List comprehensions are an elegant way to define and create lists in Python\n",
    "\n",
    "![](../images/comprehension1.png)\n",
    "<!-- source? -->\n",
    "\n"
   ]
  },
  {
   "cell_type": "code",
   "execution_count": 1,
   "id": "c77cec1b",
   "metadata": {
    "lines_to_next_cell": 2
   },
   "outputs": [
    {
     "data": {
      "text/plain": [
       "[0, 1, 2, 3, 4, 5, 6, 7, 8, 9]"
      ]
     },
     "execution_count": 1,
     "metadata": {},
     "output_type": "execute_result"
    }
   ],
   "source": [
    "new_list = list(range(10))\n",
    "new_list"
   ]
  },
  {
   "cell_type": "code",
   "execution_count": 2,
   "id": "619d612a",
   "metadata": {
    "lines_to_next_cell": 2
   },
   "outputs": [
    {
     "data": {
      "text/plain": [
       "[0, 2, 4, 6, 8, 10, 12, 14, 16, 18]"
      ]
     },
     "execution_count": 2,
     "metadata": {},
     "output_type": "execute_result"
    }
   ],
   "source": [
    "[ 2*el for el in new_list ]"
   ]
  },
  {
   "cell_type": "code",
   "execution_count": 3,
   "id": "b69a7d96",
   "metadata": {},
   "outputs": [
    {
     "data": {
      "text/plain": [
       "[0, 2, 6, 12, 20, 30, 42, 56, 72, 90]"
      ]
     },
     "execution_count": 3,
     "metadata": {},
     "output_type": "execute_result"
    }
   ],
   "source": [
    "[ (el ** 2 + el) for el in new_list]"
   ]
  },
  {
   "cell_type": "markdown",
   "id": "36ec911d",
   "metadata": {},
   "source": [
    "![](../images/comprehension2.png)\n",
    "<!-- source? -->"
   ]
  },
  {
   "cell_type": "code",
   "execution_count": 4,
   "id": "c721f009",
   "metadata": {
    "lines_to_next_cell": 2
   },
   "outputs": [
    {
     "data": {
      "text/plain": [
       "[0, 4, 8, 12, 16]"
      ]
     },
     "execution_count": 4,
     "metadata": {},
     "output_type": "execute_result"
    }
   ],
   "source": [
    "[2* el for el in new_list if el %2 ==0 ]"
   ]
  },
  {
   "cell_type": "code",
   "execution_count": 5,
   "id": "cbda088a",
   "metadata": {
    "lines_to_next_cell": 2
   },
   "outputs": [
    {
     "data": {
      "text/plain": [
       "['abc', '123.5', '^&*']"
      ]
     },
     "execution_count": 5,
     "metadata": {},
     "output_type": "execute_result"
    }
   ],
   "source": [
    "my_list = [111, 2.5, True, \"abc\", \"123.5\", 999, \"^&*\"]\n",
    "\n",
    "[ el for el in my_list if type(el) == str ]"
   ]
  },
  {
   "cell_type": "code",
   "execution_count": 6,
   "id": "8896a73e",
   "metadata": {},
   "outputs": [
    {
     "data": {
      "text/plain": [
       "[333, 7.5, 3, 2997]"
      ]
     },
     "execution_count": 6,
     "metadata": {},
     "output_type": "execute_result"
    }
   ],
   "source": [
    "[ (el * 2 + el) for el in my_list if type(el) != str]"
   ]
  },
  {
   "cell_type": "markdown",
   "id": "bff1246c",
   "metadata": {},
   "source": [
    "<a id='ex-list-comp'></a> \n",
    "## <mark> Exercise: Comprehend the comprehension </mark>\n",
    "\n",
    "1. Create a new list of all the months that begin with the letter J"
   ]
  },
  {
   "cell_type": "code",
   "execution_count": 9,
   "id": "da876cb5",
   "metadata": {},
   "outputs": [],
   "source": [
    "months = ['January', 'February', 'March', 'April', 'May', 'June', \n",
    "          'July', 'August', 'September', 'October', 'November', 'December']"
   ]
  },
  {
   "cell_type": "code",
   "execution_count": 10,
   "id": "07167fce",
   "metadata": {},
   "outputs": [
    {
     "data": {
      "text/plain": [
       "['January', 'June', 'July']"
      ]
     },
     "execution_count": 10,
     "metadata": {},
     "output_type": "execute_result"
    }
   ],
   "source": [
    "[month for month in months if month.startswith(\"J\")]"
   ]
  },
  {
   "cell_type": "code",
   "execution_count": 12,
   "id": "82370e20",
   "metadata": {},
   "outputs": [
    {
     "data": {
      "text/plain": [
       "['January', 'June', 'July']"
      ]
     },
     "execution_count": 12,
     "metadata": {},
     "output_type": "execute_result"
    }
   ],
   "source": [
    "[el for el in months if el.startswith(\"J\")]"
   ]
  },
  {
   "cell_type": "code",
   "execution_count": 11,
   "id": "814ee9d2",
   "metadata": {},
   "outputs": [],
   "source": [
    "# %load ../answers/ex-list-comp.py\n",
    "[el for el in months if el.startswith('J')]"
   ]
  },
  {
   "cell_type": "markdown",
   "id": "585669e3",
   "metadata": {},
   "source": [
    "2. Use a list comprehension to create a new list that takes the difference between cubic and squared values of a given list and only includes it if the difference is greater than zero.\n",
    "\n",
    "*Example:* for number 2, `2^3-2^2 = 4`, which is bigger than zero, so this number would be in the final list."
   ]
  },
  {
   "cell_type": "code",
   "execution_count": 13,
   "id": "88db8eb5",
   "metadata": {
    "lines_to_next_cell": 0
   },
   "outputs": [],
   "source": [
    "example_list = [1, 7, -2, 5, 3, 4, 0, -1, -4]"
   ]
  },
  {
   "cell_type": "code",
   "execution_count": null,
   "id": "63da6c78",
   "metadata": {},
   "outputs": [],
   "source": []
  },
  {
   "cell_type": "code",
   "execution_count": null,
   "id": "05f1597a",
   "metadata": {},
   "outputs": [],
   "source": [
    "# %load ../answers/ex-list-comp-2.py"
   ]
  },
  {
   "cell_type": "code",
   "execution_count": null,
   "id": "a435348b",
   "metadata": {},
   "outputs": [],
   "source": []
  }
 ],
 "metadata": {
  "kernelspec": {
   "display_name": "Python 3",
   "language": "python",
   "name": "python3"
  },
  "language_info": {
   "codemirror_mode": {
    "name": "ipython",
    "version": 3
   },
   "file_extension": ".py",
   "mimetype": "text/x-python",
   "name": "python",
   "nbconvert_exporter": "python",
   "pygments_lexer": "ipython3",
   "version": "3.12.1"
  }
 },
 "nbformat": 4,
 "nbformat_minor": 5
}
