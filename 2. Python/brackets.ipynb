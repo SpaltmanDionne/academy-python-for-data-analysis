{
 "cells": [
  {
   "cell_type": "markdown",
   "id": "1a5f3eb1",
   "metadata": {},
   "source": [
    "# Methods and Functions "
   ]
  },
  {
   "cell_type": "code",
   "execution_count": null,
   "id": "d11ad65b",
   "metadata": {},
   "outputs": [
    {
     "data": {
      "text/plain": [
       "9.0"
      ]
     },
     "execution_count": 3,
     "metadata": {},
     "output_type": "execute_result"
    }
   ],
   "source": [
    "# function\n",
    "float(\"67.8\") \n",
    "float(9)"
   ]
  },
  {
   "cell_type": "code",
   "execution_count": 6,
   "id": "631e53d8",
   "metadata": {},
   "outputs": [
    {
     "data": {
      "text/plain": [
       "<function str.upper()>"
      ]
     },
     "execution_count": 6,
     "metadata": {},
     "output_type": "execute_result"
    }
   ],
   "source": [
    "# methods \n",
    "# bound to a single data type\n",
    "\n",
    "\"lucy\".upper()\n",
    "\"lucy\".upper"
   ]
  }
 ],
 "metadata": {
  "kernelspec": {
   "display_name": "Python 3",
   "language": "python",
   "name": "python3"
  },
  "language_info": {
   "codemirror_mode": {
    "name": "ipython",
    "version": 3
   },
   "file_extension": ".py",
   "mimetype": "text/x-python",
   "name": "python",
   "nbconvert_exporter": "python",
   "pygments_lexer": "ipython3",
   "version": "3.12.1"
  }
 },
 "nbformat": 4,
 "nbformat_minor": 5
}
