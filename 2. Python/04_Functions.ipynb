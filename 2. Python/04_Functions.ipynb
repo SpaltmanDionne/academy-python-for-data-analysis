{
 "cells": [
  {
   "cell_type": "markdown",
   "metadata": {},
   "source": [
    "# Functions\n",
    "\n",
    "**A function is a block of code that only runs when it is called.** You can pass values, known as arguments, into a function. A function can also return values as a result. \n",
    "\n",
    "In this notebook you shall learn how to create your own functions.\n",
    "\n",
    "* [Functions overview](#func-overview)\n",
    "    * [<mark>Exercise: Create your first functions</mark>](#ex-create-func)\n",
    "* [Default parameter values](#default-parameters)\n",
    "    * [<mark>Exercises: Even more functions!</mark>](#ex-build-func)\n",
    "* [Docstrings](#docstrings)\n",
    "    * [<mark>Exercise: Write docstrings</mark>](ex-build-docstrings)\n",
    "* [Difference between returing and printing](#diff)"
   ]
  },
  {
   "cell_type": "markdown",
   "metadata": {},
   "source": [
    "You have already seen some of Python's in-built functions."
   ]
  },
  {
   "cell_type": "code",
   "execution_count": 1,
   "metadata": {},
   "outputs": [
    {
     "name": "stdout",
     "output_type": "stream",
     "text": [
      "hello\n"
     ]
    }
   ],
   "source": [
    "print(\"hello\")"
   ]
  },
  {
   "cell_type": "code",
   "execution_count": 2,
   "metadata": {},
   "outputs": [
    {
     "data": {
      "text/plain": [
       "float"
      ]
     },
     "execution_count": 2,
     "metadata": {},
     "output_type": "execute_result"
    }
   ],
   "source": [
    "type(7.0)"
   ]
  },
  {
   "cell_type": "code",
   "execution_count": 3,
   "metadata": {},
   "outputs": [
    {
     "name": "stdout",
     "output_type": "stream",
     "text": [
      "Help on built-in function len in module builtins:\n",
      "\n",
      "len(obj, /)\n",
      "    Return the number of items in a container.\n",
      "\n"
     ]
    }
   ],
   "source": [
    "help(len)"
   ]
  },
  {
   "cell_type": "code",
   "execution_count": 12,
   "metadata": {},
   "outputs": [],
   "source": [
    "def add_two_numbers(x, y): \n",
    "    return x + y"
   ]
  },
  {
   "cell_type": "code",
   "execution_count": 13,
   "metadata": {},
   "outputs": [
    {
     "data": {
      "text/plain": [
       "6"
      ]
     },
     "execution_count": 13,
     "metadata": {},
     "output_type": "execute_result"
    }
   ],
   "source": [
    "add_two_numbers(2, 4)"
   ]
  },
  {
   "cell_type": "markdown",
   "metadata": {},
   "source": [
    "<a id = 'func-overview'></a>\n",
    "## Functions overview\n",
    "\n"
   ]
  },
  {
   "cell_type": "markdown",
   "metadata": {},
   "source": [
    "![](images/function.png)\n",
    "<!-- source? -->"
   ]
  },
  {
   "cell_type": "markdown",
   "metadata": {},
   "source": [
    "In Python, a function is defined using the `def` keyword, and the contents of the function are an indentated code block.\n",
    "\n",
    "You can use a `return` statement if you want the function to **return** a value. "
   ]
  },
  {
   "cell_type": "code",
   "execution_count": 4,
   "metadata": {},
   "outputs": [],
   "source": [
    "def hello():\n",
    "    return \"Hello!\""
   ]
  },
  {
   "cell_type": "markdown",
   "metadata": {},
   "source": [
    "Note how the code doesn't get executed until the function is called with `()`."
   ]
  },
  {
   "cell_type": "code",
   "execution_count": 5,
   "metadata": {},
   "outputs": [
    {
     "data": {
      "text/plain": [
       "<function __main__.hello()>"
      ]
     },
     "execution_count": 5,
     "metadata": {},
     "output_type": "execute_result"
    }
   ],
   "source": [
    "hello"
   ]
  },
  {
   "cell_type": "code",
   "execution_count": 14,
   "metadata": {},
   "outputs": [
    {
     "data": {
      "text/plain": [
       "'Hello!'"
      ]
     },
     "execution_count": 14,
     "metadata": {},
     "output_type": "execute_result"
    }
   ],
   "source": [
    "hello()"
   ]
  },
  {
   "cell_type": "markdown",
   "metadata": {},
   "source": [
    "#### Code along: Create a function that adds two numbers together"
   ]
  },
  {
   "cell_type": "code",
   "execution_count": 15,
   "metadata": {},
   "outputs": [],
   "source": [
    "# write your function here:\n",
    "def add_up(x, y): \n",
    "    return x + y\n"
   ]
  },
  {
   "cell_type": "code",
   "execution_count": 16,
   "metadata": {},
   "outputs": [
    {
     "data": {
      "text/plain": [
       "6"
      ]
     },
     "execution_count": 16,
     "metadata": {},
     "output_type": "execute_result"
    }
   ],
   "source": [
    "# call your function here:\n",
    "add_up(2, 4)"
   ]
  },
  {
   "cell_type": "markdown",
   "metadata": {},
   "source": [
    "<a id = 'default-parameters'></a>\n",
    "## Default Parameter Values\n",
    "\n",
    "It is also possible to set default parameter values, which will be used if the function is called without arguments. This is shown in the example below. "
   ]
  },
  {
   "cell_type": "code",
   "execution_count": 9,
   "metadata": {
    "lines_to_next_cell": 2
   },
   "outputs": [],
   "source": [
    "def say_f1_winner(name = \"Max Verstappen\"):\n",
    "    return name + \" just won the race!\""
   ]
  },
  {
   "cell_type": "code",
   "execution_count": 10,
   "metadata": {
    "lines_to_next_cell": 2
   },
   "outputs": [
    {
     "data": {
      "text/plain": [
       "'Max Verstappen just won the race!'"
      ]
     },
     "execution_count": 10,
     "metadata": {},
     "output_type": "execute_result"
    }
   ],
   "source": [
    "say_f1_winner()"
   ]
  },
  {
   "cell_type": "code",
   "execution_count": 17,
   "metadata": {
    "lines_to_next_cell": 2
   },
   "outputs": [
    {
     "data": {
      "text/plain": [
       "'Lewis Hamilton just won the race!'"
      ]
     },
     "execution_count": 17,
     "metadata": {},
     "output_type": "execute_result"
    }
   ],
   "source": [
    "say_f1_winner(\"Lewis Hamilton\")"
   ]
  },
  {
   "cell_type": "markdown",
   "metadata": {},
   "source": [
    "<a id = 'ex-build-func'></a>\n",
    "### <mark>Exercise: Build your first functions!</mark>\n",
    "\n",
    "1. Create a function that multiplies 3 numbers together and returns the result. Call your function to check if it works. "
   ]
  },
  {
   "cell_type": "code",
   "execution_count": 18,
   "metadata": {},
   "outputs": [],
   "source": [
    "def multiply_three_numbers(x, y, z): \n",
    "    return x * y * z "
   ]
  },
  {
   "cell_type": "code",
   "execution_count": null,
   "metadata": {},
   "outputs": [
    {
     "data": {
      "text/plain": [
       "96"
      ]
     },
     "execution_count": 22,
     "metadata": {},
     "output_type": "execute_result"
    }
   ],
   "source": [
    "multiply_three_numbers(2, 6, 8)"
   ]
  },
  {
   "cell_type": "markdown",
   "metadata": {},
   "source": [
    "2. Create a function that returns the square of a number and call it to see if it works."
   ]
  },
  {
   "cell_type": "code",
   "execution_count": 23,
   "metadata": {},
   "outputs": [],
   "source": [
    "def square(x): \n",
    "    return x**2"
   ]
  },
  {
   "cell_type": "code",
   "execution_count": 24,
   "metadata": {},
   "outputs": [
    {
     "data": {
      "text/plain": [
       "16"
      ]
     },
     "execution_count": 24,
     "metadata": {},
     "output_type": "execute_result"
    }
   ],
   "source": [
    "square(4)"
   ]
  },
  {
   "cell_type": "markdown",
   "metadata": {},
   "source": [
    "1. Returns a string that says \"Hello\" followed by a *name* which is the input argument :\n",
    "```python\n",
    "    \"Hello, <a name>!\"\n",
    "```    \n",
    "**Extra**: use a default parameter so that it outputs \"Hello, World!\" if the function is called without arguments."
   ]
  },
  {
   "cell_type": "code",
   "execution_count": 25,
   "metadata": {},
   "outputs": [],
   "source": [
    "def hello_name(name=\"World\"):\n",
    "    return \"Hello, \" + str(name) + \"!\""
   ]
  },
  {
   "cell_type": "code",
   "execution_count": 26,
   "metadata": {},
   "outputs": [
    {
     "data": {
      "text/plain": [
       "'Hello, Lucy!'"
      ]
     },
     "execution_count": 26,
     "metadata": {},
     "output_type": "execute_result"
    }
   ],
   "source": [
    "hello_name(\"Lucy\")"
   ]
  },
  {
   "cell_type": "code",
   "execution_count": 27,
   "metadata": {},
   "outputs": [
    {
     "data": {
      "text/plain": [
       "'Hello, World!'"
      ]
     },
     "execution_count": 27,
     "metadata": {},
     "output_type": "execute_result"
    }
   ],
   "source": [
    "hello_name()"
   ]
  },
  {
   "cell_type": "markdown",
   "metadata": {},
   "source": [
    "2. Returns whether a number is an even number and check that it works"
   ]
  },
  {
   "cell_type": "code",
   "execution_count": null,
   "metadata": {},
   "outputs": [],
   "source": [
    "def is_even(x): \n",
    "    if x % 2 == 0: \n",
    "        return str(x) + \" is an even number!\"\n",
    "    else: \n",
    "        return str(x) + \" is not an even number!\""
   ]
  },
  {
   "cell_type": "code",
   "execution_count": null,
   "metadata": {},
   "outputs": [],
   "source": [
    "def is_even(x): \n",
    "    return str(x) + \" is an even number!\" if x % 2 == 0 else str(x) + \" is not an even number!\""
   ]
  },
  {
   "cell_type": "code",
   "execution_count": 57,
   "metadata": {},
   "outputs": [
    {
     "data": {
      "text/plain": [
       "'9 is not an even number!'"
      ]
     },
     "execution_count": 57,
     "metadata": {},
     "output_type": "execute_result"
    }
   ],
   "source": [
    "even_number(9)"
   ]
  },
  {
   "cell_type": "markdown",
   "metadata": {},
   "source": [
    "**Challenge: Making new words**\n",
    "\n",
    "Write a function that takes a sentence (string) and combines the first letters of each word into a new word. For example, the sample_sentence should output \"PLEASE\"\n",
    "\n",
    "<details>\n",
    "    \n",
    "  <summary><span style=\"color:blue\">List of hints</span></summary>\n",
    "\n",
    "1. First write code that will create a new word without using a function and use .split() to make a list of words\n",
    "2. Use a for loop on the list of words and extract each first letter\n",
    "3. Create an empty string before the for loop and add an incremental concatenation inside the for loop\n",
    "4. Convert this all into a function\n",
    "\n",
    "Use the hint options below to see more details\n",
    "\n",
    "\n",
    "</details>"
   ]
  },
  {
   "cell_type": "code",
   "execution_count": 38,
   "metadata": {},
   "outputs": [],
   "source": [
    "sample_sentence = \"Please look everywhere and see everything\""
   ]
  },
  {
   "cell_type": "code",
   "execution_count": 62,
   "metadata": {},
   "outputs": [],
   "source": [
    "def take_first_letter(sentence): \n",
    "    new_word = \"\"\n",
    "    for word in sentence.split(): \n",
    "        new_word += (word[0])\n",
    "    return new_word"
   ]
  },
  {
   "cell_type": "code",
   "execution_count": 84,
   "metadata": {},
   "outputs": [],
   "source": [
    "def take_first_letter(sentence): \n",
    "    return \"\".join([word[0] for word in sentence.split()])"
   ]
  },
  {
   "cell_type": "code",
   "execution_count": 85,
   "metadata": {},
   "outputs": [
    {
     "data": {
      "text/plain": [
       "'Please'"
      ]
     },
     "execution_count": 85,
     "metadata": {},
     "output_type": "execute_result"
    }
   ],
   "source": [
    "take_first_letter(sample_sentence)"
   ]
  },
  {
   "cell_type": "code",
   "execution_count": 86,
   "metadata": {},
   "outputs": [
    {
     "data": {
      "text/plain": [
       "'Times'"
      ]
     },
     "execution_count": 86,
     "metadata": {},
     "output_type": "execute_result"
    }
   ],
   "source": [
    "take_first_letter(\"This is my example sentence\")"
   ]
  },
  {
   "cell_type": "markdown",
   "metadata": {},
   "source": [
    "<details>\n",
    "    \n",
    "  <summary><span style=\"color:blue\">Hint 1</span></summary>\n",
    "\n",
    "First write code that will create a new word without using a function.\n",
    "\n",
    "Create a new variable called `words`, use the .split() method on `sample_sentence`. You will then be able to loop over this.\n",
    "```python\n",
    "words = sample_sentence.split()\n",
    "```\n",
    "\n",
    "</details>"
   ]
  },
  {
   "cell_type": "markdown",
   "metadata": {},
   "source": [
    "<details>\n",
    "    \n",
    "  <summary><span style=\"color:blue\">Hint 2</span></summary>\n",
    "\n",
    "Loop over the list of words and extract the first letter of each word.\n",
    "```python\n",
    "words = sample_sentence.split()\n",
    "for word in words:\n",
    "    print(word[0].upper())\n",
    "```\n",
    "\n",
    "</details>"
   ]
  },
  {
   "cell_type": "markdown",
   "metadata": {},
   "source": [
    "<details>\n",
    "    \n",
    "  <summary><span style=\"color:blue\">Hint 3</span></summary>\n",
    "\n",
    "Remember incremental loops from the List notebook? Use this same logic to incrementally append to a string. \n",
    "\n",
    "First create an empty string OUTSIDE of the loop called `output_word` - this will be updated on each loop, so that after the loop has completed it will be the full word.\n",
    "\n",
    "Now add an incremental sum update `output_word` by concatenate each new letter to it.\n",
    "\n",
    "```python\n",
    "words = sample_sentence.split()\n",
    "output_word = \"\"\n",
    "for word in words:\n",
    "    output_word = output_word + word[0].upper()\n",
    "\n",
    "print(output_word)\n",
    "```\n",
    "\n",
    "</details>"
   ]
  },
  {
   "cell_type": "markdown",
   "metadata": {},
   "source": [
    "<details>\n",
    "    \n",
    "  <summary><span style=\"color:blue\">Hint 4</span></summary>\n",
    "\n",
    "Now you have all your code, create a function out of it by adding `def create new words(sentence):` above it, and indenting the block of code (highlight it all and hit <tab>). Remember to change `print()` to `return` so that the new word is outputted, not just printed.\n",
    "\n",
    "You now have your function.\n",
    "\n",
    "```python\n",
    "def create new words(sentence):\n",
    "    words = sample_sentence.split()\n",
    "    output_word = \"\"\n",
    "    for word in words:\n",
    "        output_word = output_word + word[0].upper()\n",
    "    \n",
    "    return output_word\n",
    "```\n",
    "\n",
    "</details>"
   ]
  },
  {
   "cell_type": "markdown",
   "metadata": {},
   "source": [
    "**Answers:**"
   ]
  },
  {
   "cell_type": "code",
   "execution_count": null,
   "metadata": {},
   "outputs": [],
   "source": [
    "# %load answers/ex-build-func-1.py"
   ]
  },
  {
   "cell_type": "code",
   "execution_count": null,
   "metadata": {},
   "outputs": [],
   "source": [
    "# %load answers/ex-build-func-2.py"
   ]
  },
  {
   "cell_type": "code",
   "execution_count": null,
   "metadata": {},
   "outputs": [],
   "source": [
    "# %load answers/ex-build-func-3.py"
   ]
  },
  {
   "cell_type": "code",
   "execution_count": null,
   "metadata": {},
   "outputs": [],
   "source": [
    "# %load answers/ex-build-func-4.py"
   ]
  },
  {
   "cell_type": "code",
   "execution_count": 47,
   "metadata": {},
   "outputs": [
    {
     "data": {
      "text/plain": [
       "'times'"
      ]
     },
     "execution_count": 47,
     "metadata": {},
     "output_type": "execute_result"
    }
   ],
   "source": [
    "# %load answers/ex-build-func-5.py\n",
    "\n",
    "def combine_first_letters(sentence):\n",
    "    words = sentence.split()\n",
    "    new_word=\"\"\n",
    "    \n",
    "    for word in words:\n",
    "        new_word+=word[0]\n",
    "        \n",
    "    return new_word\n",
    "\n",
    "combine_first_letters('this is my example sentence')\n"
   ]
  },
  {
   "cell_type": "markdown",
   "metadata": {},
   "source": [
    "<a id = 'doscstrings'></a>\n",
    "## Docstrings\n",
    "Below, a **docstring** has been added to the `say_f1_winner` function. A docstring is a string that occurs as the first statement in a function and gives information about it."
   ]
  },
  {
   "cell_type": "code",
   "execution_count": 58,
   "metadata": {},
   "outputs": [],
   "source": [
    "def say_f1_winner(name = 'Max Verstappen'):\n",
    "    \"\"\"\n",
    "    Takes a name and prints a message saying \n",
    "    \"[that person] just won the race!\"\n",
    "    \n",
    "    name: str\n",
    "    \"\"\"\n",
    "    print(name, 'just won the race!')"
   ]
  },
  {
   "cell_type": "markdown",
   "metadata": {},
   "source": [
    "<mark>**Question:** What could be benefits of using docstrings in your functions?</mark>"
   ]
  },
  {
   "cell_type": "raw",
   "metadata": {
    "vscode": {
     "languageId": "raw"
    }
   },
   "source": [
    "Answer: for readability and if you're working together in a team "
   ]
  },
  {
   "cell_type": "markdown",
   "metadata": {},
   "source": [
    "<details>\n",
    "    \n",
    "  <summary><span style=\"color:blue\">Show answer</span></summary>\n",
    "  \n",
    "The benefits of writing docstrings is that it's easier for others (and yourself in the future) to understand what the function is supposed to do. \n",
    "    \n",
    "As you'll see below, you can also request this information when working with the function through e.g. the help() function.\n",
    "\n",
    "</details>"
   ]
  },
  {
   "cell_type": "markdown",
   "metadata": {},
   "source": [
    "You can access the docs of a function by adding a `?` in front of *any function* in Python, even ones you create:"
   ]
  },
  {
   "cell_type": "code",
   "execution_count": 59,
   "metadata": {},
   "outputs": [
    {
     "name": "stdout",
     "output_type": "stream",
     "text": [
      "\u001b[31mSignature:\u001b[39m say_f1_winner(name=\u001b[33m'Max Verstappen'\u001b[39m)\n",
      "\u001b[31mDocstring:\u001b[39m\n",
      "Takes a name and prints a message saying \n",
      "\"[that person] just won the race!\"\n",
      "\n",
      "name: str\n",
      "\u001b[31mFile:\u001b[39m      /tmp/ipykernel_53563/2400166752.py\n",
      "\u001b[31mType:\u001b[39m      function"
     ]
    }
   ],
   "source": [
    "?say_f1_winner"
   ]
  },
  {
   "cell_type": "code",
   "execution_count": 60,
   "metadata": {},
   "outputs": [
    {
     "name": "stdout",
     "output_type": "stream",
     "text": [
      "\u001b[31mSignature:\u001b[39m len(obj, /)\n",
      "\u001b[31mDocstring:\u001b[39m Return the number of items in a container.\n",
      "\u001b[31mType:\u001b[39m      builtin_function_or_method"
     ]
    }
   ],
   "source": [
    "?len"
   ]
  },
  {
   "cell_type": "markdown",
   "metadata": {},
   "source": [
    "Alternatively, you can see this by writing the function and hitting shift+TAB:"
   ]
  },
  {
   "cell_type": "code",
   "execution_count": 61,
   "metadata": {},
   "outputs": [
    {
     "data": {
      "text/plain": [
       "<function __main__.say_f1_winner(name='Max Verstappen')>"
      ]
     },
     "execution_count": 61,
     "metadata": {},
     "output_type": "execute_result"
    }
   ],
   "source": [
    "say_f1_winner"
   ]
  },
  {
   "cell_type": "markdown",
   "metadata": {},
   "source": [
    "### 🧠 Functions in Python - Quick Summary\n",
    "\n",
    "Functions are **reusable blocks of code** that make your programs **cleaner and easier to read**. Instead of repeating the same code, you can write it once in a function and call it whenever we need it.\n",
    "\n",
    "- Define a function using `def`:\n",
    "  ```python\n",
    "  def greet(name):\n",
    "      return \"Hello, \" + name + \"!\"\n",
    "  ```\n",
    "- Call a function by its name with `()`:\n",
    "  ```python\n",
    "  greet(\"Alice\")\n",
    "  ```\n",
    "\n",
    "✅ Great for breaking problems into smaller steps  \n",
    "✅ Makes your code DRY (Don't Repeat Yourself)  \n",
    "✅ Helps organize and test your code more easily\n"
   ]
  }
 ],
 "metadata": {
  "kernelspec": {
   "display_name": "Python 3",
   "language": "python",
   "name": "python3"
  },
  "language_info": {
   "codemirror_mode": {
    "name": "ipython",
    "version": 3
   },
   "file_extension": ".py",
   "mimetype": "text/x-python",
   "name": "python",
   "nbconvert_exporter": "python",
   "pygments_lexer": "ipython3",
   "version": "3.12.1"
  }
 },
 "nbformat": 4,
 "nbformat_minor": 4
}
